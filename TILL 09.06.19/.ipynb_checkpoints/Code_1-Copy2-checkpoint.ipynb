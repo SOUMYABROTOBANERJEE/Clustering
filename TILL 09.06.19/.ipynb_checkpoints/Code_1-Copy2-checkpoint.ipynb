{
 "cells": [
  {
   "cell_type": "code",
   "execution_count": 64,
   "metadata": {},
   "outputs": [],
   "source": [
    "from sklearn.metrics import silhouette_score\n",
    "import pandas as pd\n",
    "import numpy as np\n",
    "from scipy.io import arff\n",
    "from sklearn.mixture import GaussianMixture\n",
    "import warnings\n",
    "import glob\n",
    "import cv2\n",
    "import matplotlib.pyplot as plt\n",
    "warnings.filterwarnings(\"ignore\")\n",
    "import skfuzzy as fuzz\n",
    "import os"
   ]
  },
  {
   "cell_type": "code",
   "execution_count": 69,
   "metadata": {},
   "outputs": [],
   "source": [
    "datasets=os.listdir(\"C:\\\\Users\\\\soumy\\\\Desktop\\\\JU\\\\01.09.2019\\\\literature\\\\literature\\\\\")"
   ]
  },
  {
   "cell_type": "code",
   "execution_count": 2,
   "metadata": {},
   "outputs": [],
   "source": [
    "k=2\n",
    "thresh=0.2\n",
    "limit=20\n",
    "dict1={}\n",
    "dictoutlier={}\n",
    "dictfinal={}\n",
    "dictnotoutlier={}"
   ]
  },
  {
   "cell_type": "code",
   "execution_count": 3,
   "metadata": {},
   "outputs": [],
   "source": [
    "DataSet=\"ALOI\"\n",
    "path=\"C:\\\\Users\\\\soumy\\\\Desktop\\\\JU\\\\01.09.2019\\\\literature\\\\literature\\\\\"+DataSet+\"\\\\\"+DataSet+\"_withoutdupl_norm.arff\"\n",
    "#path_img= \"C:\\\\Users\\\\soumy\\\\Desktop\\\\JU\\Data for Outlier\\\\Data for Outlier\\\\001\\\\\"\n",
    "data = arff.loadarff(path)"
   ]
  },
  {
   "cell_type": "code",
   "execution_count": null,
   "metadata": {},
   "outputs": [],
   "source": []
  },
  {
   "cell_type": "code",
   "execution_count": 4,
   "metadata": {},
   "outputs": [],
   "source": []
  },
  {
   "cell_type": "code",
   "execution_count": 5,
   "metadata": {},
   "outputs": [],
   "source": [
    "df12=pd.DataFrame(data[0])\n",
    "#df=df[df['class']=='C001']\n",
    "from copy import deepcopy\n",
    "df_copy=deepcopy(df12)"
   ]
  },
  {
   "cell_type": "code",
   "execution_count": null,
   "metadata": {},
   "outputs": [],
   "source": []
  },
  {
   "cell_type": "code",
   "execution_count": 6,
   "metadata": {},
   "outputs": [],
   "source": [
    "labelsss=df12['outlier']"
   ]
  },
  {
   "cell_type": "code",
   "execution_count": 7,
   "metadata": {},
   "outputs": [],
   "source": [
    "#for i in range(len(labelsss)):\n",
    "#   if(labelsss[i][0]==' '):\n",
    "#        labelsss[i]=labelsss[i][7:11]\n",
    "#    else:\n",
    "#        labelsss[i]=labelsss[i][6:9]\n",
    "    "
   ]
  },
  {
   "cell_type": "code",
   "execution_count": 8,
   "metadata": {},
   "outputs": [
    {
     "data": {
      "text/plain": [
       "(array([b\"'no'\", b\"'yes'\"], dtype=object), array([48026,  1508], dtype=int64))"
      ]
     },
     "execution_count": 8,
     "metadata": {},
     "output_type": "execute_result"
    }
   ],
   "source": [
    "np.unique(labelsss,return_counts=True)"
   ]
  },
  {
   "cell_type": "code",
   "execution_count": 9,
   "metadata": {},
   "outputs": [],
   "source": [
    "df12.drop(columns=['outlier','id'],inplace=True)"
   ]
  },
  {
   "cell_type": "code",
   "execution_count": 10,
   "metadata": {},
   "outputs": [],
   "source": []
  },
  {
   "cell_type": "code",
   "execution_count": 11,
   "metadata": {},
   "outputs": [],
   "source": []
  },
  {
   "cell_type": "code",
   "execution_count": 12,
   "metadata": {},
   "outputs": [],
   "source": [
    "from sklearn import preprocessing\n",
    "\n",
    "x = df12.values #returns a numpy array\n",
    "min_max_scaler = preprocessing.MinMaxScaler()\n",
    "x_scaled = min_max_scaler.fit_transform(x)\n",
    "df12 = pd.DataFrame(x_scaled)"
   ]
  },
  {
   "cell_type": "code",
   "execution_count": 13,
   "metadata": {},
   "outputs": [
    {
     "data": {
      "text/html": [
       "<div>\n",
       "<style scoped>\n",
       "    .dataframe tbody tr th:only-of-type {\n",
       "        vertical-align: middle;\n",
       "    }\n",
       "\n",
       "    .dataframe tbody tr th {\n",
       "        vertical-align: top;\n",
       "    }\n",
       "\n",
       "    .dataframe thead th {\n",
       "        text-align: right;\n",
       "    }\n",
       "</style>\n",
       "<table border=\"1\" class=\"dataframe\">\n",
       "  <thead>\n",
       "    <tr style=\"text-align: right;\">\n",
       "      <th></th>\n",
       "      <th>0</th>\n",
       "      <th>1</th>\n",
       "      <th>2</th>\n",
       "      <th>3</th>\n",
       "      <th>4</th>\n",
       "      <th>5</th>\n",
       "      <th>6</th>\n",
       "      <th>7</th>\n",
       "      <th>8</th>\n",
       "      <th>9</th>\n",
       "      <th>...</th>\n",
       "      <th>17</th>\n",
       "      <th>18</th>\n",
       "      <th>19</th>\n",
       "      <th>20</th>\n",
       "      <th>21</th>\n",
       "      <th>22</th>\n",
       "      <th>23</th>\n",
       "      <th>24</th>\n",
       "      <th>25</th>\n",
       "      <th>26</th>\n",
       "    </tr>\n",
       "  </thead>\n",
       "  <tbody>\n",
       "    <tr>\n",
       "      <th>0</th>\n",
       "      <td>0.784999</td>\n",
       "      <td>0.000018</td>\n",
       "      <td>0.0</td>\n",
       "      <td>0.000093</td>\n",
       "      <td>0.0</td>\n",
       "      <td>0.0</td>\n",
       "      <td>0.0</td>\n",
       "      <td>0.0</td>\n",
       "      <td>0.0</td>\n",
       "      <td>0.139811</td>\n",
       "      <td>...</td>\n",
       "      <td>0.0</td>\n",
       "      <td>0.048171</td>\n",
       "      <td>0.001189</td>\n",
       "      <td>0.0</td>\n",
       "      <td>0.115728</td>\n",
       "      <td>0.023449</td>\n",
       "      <td>0.0002</td>\n",
       "      <td>0.000220</td>\n",
       "      <td>0.034952</td>\n",
       "      <td>0.046914</td>\n",
       "    </tr>\n",
       "    <tr>\n",
       "      <th>1</th>\n",
       "      <td>0.958088</td>\n",
       "      <td>0.000000</td>\n",
       "      <td>0.0</td>\n",
       "      <td>0.001671</td>\n",
       "      <td>0.0</td>\n",
       "      <td>0.0</td>\n",
       "      <td>0.0</td>\n",
       "      <td>0.0</td>\n",
       "      <td>0.0</td>\n",
       "      <td>0.019556</td>\n",
       "      <td>...</td>\n",
       "      <td>0.0</td>\n",
       "      <td>0.000000</td>\n",
       "      <td>0.000000</td>\n",
       "      <td>0.0</td>\n",
       "      <td>0.022035</td>\n",
       "      <td>0.007516</td>\n",
       "      <td>0.0000</td>\n",
       "      <td>0.000000</td>\n",
       "      <td>0.001033</td>\n",
       "      <td>0.000000</td>\n",
       "    </tr>\n",
       "    <tr>\n",
       "      <th>2</th>\n",
       "      <td>0.938768</td>\n",
       "      <td>0.000000</td>\n",
       "      <td>0.0</td>\n",
       "      <td>0.005146</td>\n",
       "      <td>0.0</td>\n",
       "      <td>0.0</td>\n",
       "      <td>0.0</td>\n",
       "      <td>0.0</td>\n",
       "      <td>0.0</td>\n",
       "      <td>0.018451</td>\n",
       "      <td>...</td>\n",
       "      <td>0.0</td>\n",
       "      <td>0.000000</td>\n",
       "      <td>0.000000</td>\n",
       "      <td>0.0</td>\n",
       "      <td>0.035542</td>\n",
       "      <td>0.011982</td>\n",
       "      <td>0.0000</td>\n",
       "      <td>0.001595</td>\n",
       "      <td>0.019520</td>\n",
       "      <td>0.000000</td>\n",
       "    </tr>\n",
       "    <tr>\n",
       "      <th>3</th>\n",
       "      <td>0.954775</td>\n",
       "      <td>0.000000</td>\n",
       "      <td>0.0</td>\n",
       "      <td>0.001427</td>\n",
       "      <td>0.0</td>\n",
       "      <td>0.0</td>\n",
       "      <td>0.0</td>\n",
       "      <td>0.0</td>\n",
       "      <td>0.0</td>\n",
       "      <td>0.024944</td>\n",
       "      <td>...</td>\n",
       "      <td>0.0</td>\n",
       "      <td>0.000000</td>\n",
       "      <td>0.000000</td>\n",
       "      <td>0.0</td>\n",
       "      <td>0.019941</td>\n",
       "      <td>0.000805</td>\n",
       "      <td>0.0000</td>\n",
       "      <td>0.000000</td>\n",
       "      <td>0.000035</td>\n",
       "      <td>0.000000</td>\n",
       "    </tr>\n",
       "    <tr>\n",
       "      <th>4</th>\n",
       "      <td>0.933601</td>\n",
       "      <td>0.000000</td>\n",
       "      <td>0.0</td>\n",
       "      <td>0.001682</td>\n",
       "      <td>0.0</td>\n",
       "      <td>0.0</td>\n",
       "      <td>0.0</td>\n",
       "      <td>0.0</td>\n",
       "      <td>0.0</td>\n",
       "      <td>0.037002</td>\n",
       "      <td>...</td>\n",
       "      <td>0.0</td>\n",
       "      <td>0.000000</td>\n",
       "      <td>0.000000</td>\n",
       "      <td>0.0</td>\n",
       "      <td>0.046759</td>\n",
       "      <td>0.002663</td>\n",
       "      <td>0.0000</td>\n",
       "      <td>0.000339</td>\n",
       "      <td>0.001359</td>\n",
       "      <td>0.000000</td>\n",
       "    </tr>\n",
       "  </tbody>\n",
       "</table>\n",
       "<p>5 rows × 27 columns</p>\n",
       "</div>"
      ],
      "text/plain": [
       "         0         1    2         3    4    5    6    7    8         9   ...  \\\n",
       "0  0.784999  0.000018  0.0  0.000093  0.0  0.0  0.0  0.0  0.0  0.139811  ...   \n",
       "1  0.958088  0.000000  0.0  0.001671  0.0  0.0  0.0  0.0  0.0  0.019556  ...   \n",
       "2  0.938768  0.000000  0.0  0.005146  0.0  0.0  0.0  0.0  0.0  0.018451  ...   \n",
       "3  0.954775  0.000000  0.0  0.001427  0.0  0.0  0.0  0.0  0.0  0.024944  ...   \n",
       "4  0.933601  0.000000  0.0  0.001682  0.0  0.0  0.0  0.0  0.0  0.037002  ...   \n",
       "\n",
       "    17        18        19   20        21        22      23        24  \\\n",
       "0  0.0  0.048171  0.001189  0.0  0.115728  0.023449  0.0002  0.000220   \n",
       "1  0.0  0.000000  0.000000  0.0  0.022035  0.007516  0.0000  0.000000   \n",
       "2  0.0  0.000000  0.000000  0.0  0.035542  0.011982  0.0000  0.001595   \n",
       "3  0.0  0.000000  0.000000  0.0  0.019941  0.000805  0.0000  0.000000   \n",
       "4  0.0  0.000000  0.000000  0.0  0.046759  0.002663  0.0000  0.000339   \n",
       "\n",
       "         25        26  \n",
       "0  0.034952  0.046914  \n",
       "1  0.001033  0.000000  \n",
       "2  0.019520  0.000000  \n",
       "3  0.000035  0.000000  \n",
       "4  0.001359  0.000000  \n",
       "\n",
       "[5 rows x 27 columns]"
      ]
     },
     "execution_count": 13,
     "metadata": {},
     "output_type": "execute_result"
    }
   ],
   "source": []
  },
  {
   "cell_type": "code",
   "execution_count": 14,
   "metadata": {},
   "outputs": [
    {
     "name": "stdout",
     "output_type": "stream",
     "text": [
      "Silhouette Score = 0.23822660050777816 for i = 1\n",
      "[]\n",
      "(array([0, 1], dtype=int64), array([ 9545, 39989], dtype=int64))\n",
      "----------------------------------------------------------------------------------------\n",
      "\n",
      "Silhouette Score = 0.5032641506445401 for i = 2\n",
      "[]\n",
      "(array([0, 1], dtype=int64), array([15370, 34164], dtype=int64))\n",
      "----------------------------------------------------------------------------------------\n",
      "\n",
      "Silhouette Score = 0.22263513788184458 for i = 3\n",
      "[]\n",
      "(array([0, 1], dtype=int64), array([ 9639, 39895], dtype=int64))\n",
      "----------------------------------------------------------------------------------------\n",
      "\n",
      "Silhouette Score = 0.47642020100110993 for i = 4\n",
      "[]\n",
      "(array([0, 1], dtype=int64), array([17070, 32464], dtype=int64))\n",
      "----------------------------------------------------------------------------------------\n",
      "\n",
      "Silhouette Score = 0.17466050408084494 for i = 5\n",
      "[]\n",
      "(array([0, 1], dtype=int64), array([ 9637, 39897], dtype=int64))\n",
      "----------------------------------------------------------------------------------------\n",
      "\n",
      "Silhouette Score = 0.1639641134941853 for i = 6\n",
      "[]\n",
      "(array([0, 1], dtype=int64), array([ 9630, 39904], dtype=int64))\n",
      "----------------------------------------------------------------------------------------\n",
      "\n",
      "Silhouette Score = 0.1605294467735776 for i = 7\n",
      "[]\n",
      "(array([0, 1], dtype=int64), array([ 9625, 39909], dtype=int64))\n",
      "----------------------------------------------------------------------------------------\n",
      "\n",
      "Silhouette Score = 0.5635243219371616 for i = 8\n",
      "[]\n",
      "(array([0, 1], dtype=int64), array([12213, 37321], dtype=int64))\n",
      "----------------------------------------------------------------------------------------\n",
      "\n",
      "Silhouette Score = 0.5413357469597374 for i = 9\n",
      "[]\n",
      "(array([0, 1], dtype=int64), array([23624, 25910], dtype=int64))\n",
      "----------------------------------------------------------------------------------------\n",
      "\n",
      "Silhouette Score = 0.5410064090439641 for i = 10\n",
      "[]\n",
      "(array([0, 1], dtype=int64), array([23853, 25681], dtype=int64))\n",
      "----------------------------------------------------------------------------------------\n",
      "\n",
      "Silhouette Score = 0.542677922777873 for i = 11\n",
      "[]\n",
      "(array([0, 1], dtype=int64), array([23823, 25711], dtype=int64))\n",
      "----------------------------------------------------------------------------------------\n",
      "\n",
      "Silhouette Score = 0.5452826853605993 for i = 12\n",
      "[]\n",
      "(array([0, 1], dtype=int64), array([23659, 25875], dtype=int64))\n",
      "----------------------------------------------------------------------------------------\n",
      "\n",
      "Silhouette Score = 0.5473059262071972 for i = 13\n",
      "[]\n",
      "(array([0, 1], dtype=int64), array([23514, 26020], dtype=int64))\n",
      "----------------------------------------------------------------------------------------\n",
      "\n",
      "Silhouette Score = 0.5504353365410273 for i = 14\n",
      "[]\n",
      "(array([0, 1], dtype=int64), array([23128, 26406], dtype=int64))\n",
      "----------------------------------------------------------------------------------------\n",
      "\n",
      "Silhouette Score = 0.5072795775239293 for i = 15\n",
      "[]\n",
      "(array([0, 1], dtype=int64), array([14184, 35350], dtype=int64))\n",
      "----------------------------------------------------------------------------------------\n",
      "\n",
      "Silhouette Score = 0.4932395981069901 for i = 16\n",
      "[]\n",
      "(array([0, 1], dtype=int64), array([14783, 34751], dtype=int64))\n",
      "----------------------------------------------------------------------------------------\n",
      "\n",
      "Silhouette Score = 0.5893443446082173 for i = 17\n",
      "[]\n",
      "(array([0, 1], dtype=int64), array([21565, 27969], dtype=int64))\n",
      "----------------------------------------------------------------------------------------\n",
      "\n",
      "Silhouette Score = 0.5951282675876135 for i = 18\n",
      "[]\n",
      "(array([0, 1], dtype=int64), array([21161, 28373], dtype=int64))\n",
      "----------------------------------------------------------------------------------------\n",
      "\n",
      "Silhouette Score = 0.4944095058337663 for i = 19\n",
      "[]\n",
      "(array([0, 1], dtype=int64), array([22285, 27249], dtype=int64))\n",
      "----------------------------------------------------------------------------------------\n",
      "\n",
      "Silhouette Score = 0.521852077556928 for i = 20\n",
      "[]\n",
      "(array([0, 1], dtype=int64), array([23286, 26248], dtype=int64))\n",
      "----------------------------------------------------------------------------------------\n",
      "\n"
     ]
    }
   ],
   "source": [
    "pd.set_option('use_inf_as_na', True)\n",
    "columns=df12.columns\n",
    "df=df12\n",
    "silhouette=[]\n",
    "for i in range(limit):\n",
    "    df.replace([np.inf, -np.inf], np.nan)\n",
    "    df.dropna(inplace=True)\n",
    "    df=df.reset_index()\n",
    "    df.drop(columns='index',inplace=True)\n",
    "    gmmkpp = GaussianMixture(n_components=k,random_state=100).fit(df)\n",
    "    gmmkm = GaussianMixture(init_params='random',n_components=k,random_state=100).fit(df)\n",
    "    cntr, u, u0, d, jm, p, fpc = fuzz.cluster.cmeans(df.T, k, 2, error=0.005, maxiter=1000, init=None)\n",
    "    \n",
    "    labelskmpp = gmmkpp.predict_proba(df)\n",
    "    s1=silhouette_score(df, np.argmax(labelskmpp,axis=1))\n",
    "    labelskm = gmmkm.predict_proba(df)\n",
    "    s2=silhouette_score(df, np.argmax(labelskm,axis=1))\n",
    "    s3=silhouette_score(df, np.argmax(u,axis=0))\n",
    "    s1=abs(s1)\n",
    "    s2=abs(s2)\n",
    "    s3=abs(s3)\n",
    "    \n",
    "    y_net = s1*labelskmpp + s2*labelskm + s3*u.T\n",
    "    \n",
    "    #print(y_net)\n",
    "    ################## SCORE ###############\n",
    "    silhouette_avg = silhouette_score(df, np.argmax(y_net,axis=1))\n",
    "    print('Silhouette Score =',silhouette_avg,'for i =',i+1)\n",
    "    silhouette.append(silhouette_avg)\n",
    "    ############### OUTLIER ########################\n",
    "    if(i==0):\n",
    "        outliers=np.where(np.max(y_net,axis=1) < thresh)\n",
    "    else :\n",
    "        thresh=thresh\n",
    "        outliers=np.where(np.max(y_net,axis=1) < thresh)\n",
    "    #if(len(outliers[0])==0):\n",
    "        #print('All Outliers Removed.... Breaking')\n",
    "        #break\n",
    "    print(outliers[0])\n",
    "    dict1.update({i:outliers[0]})\n",
    "    mol=np.delete(y_net,outliers[0],axis=0)\n",
    "    y_net=mol\n",
    "    df=df.drop(outliers[0])\n",
    "    df=df.reset_index()\n",
    "    df.drop(columns='index',inplace=True)\n",
    "    ylabel=np.argmax(y_net,axis=1)\n",
    "\n",
    "\n",
    "    labels=pd.Series(ylabel,name=\"Labels\")\n",
    "\n",
    "\n",
    "\n",
    "\n",
    "    print(np.unique(labels,return_counts=True))\n",
    "    df=df.join(labels)\n",
    "\n",
    "    df.update(labels)\n",
    "    dictoutlier.update({i:list(df[df['Labels']==1].index)})\n",
    "    dictnotoutlier.update({i:list(df[df['Labels']==0].index)})\n",
    "\n",
    "    centroids=df.groupby('Labels', as_index=False)[columns].mean()\n",
    "    centroids=centroids.drop(columns='Labels')\n",
    "    centroids=centroids.values.tolist()\n",
    "\n",
    "    for i1 in range(k):\n",
    "            x=0\n",
    "            y=0\n",
    "            for j1 in range(len(columns)):\n",
    "                x+=np.sqrt(np.abs((df[columns[j1]] - centroids[i1][j1]) ** 2))\n",
    "            y=np.exp(-1*x)   \n",
    "            # sqrt((x1 - x2)^2 - (y1 - y2)^2)\n",
    "            df['distance_from_{}'.format(i1)] =x\n",
    "            df['Probability_of_{}'.format(i1)]=y\n",
    "\n",
    "\n",
    "\n",
    "    for j2 in range(k):\n",
    "        df1=df[df['Labels']==j2]\n",
    "        for i2 in columns:\n",
    "            df1[i2]=np.abs(df[i2]-df1['Probability_of_{}'.format(j2)]/df1['distance_from_{}'.format(j2)])\n",
    "            #print(df1.head())\n",
    "            df.update(df1[i2])\n",
    "\n",
    "    df=df[columns]\n",
    "\n",
    "    #print(df.head(2))\n",
    "    print('----------------------------------------------------------------------------------------')\n",
    "    print()\n",
    "\n",
    "\n",
    "    \n",
    "    \n",
    "    \n",
    "    \n",
    "    \n",
    "    "
   ]
  },
  {
   "cell_type": "code",
   "execution_count": 24,
   "metadata": {},
   "outputs": [
    {
     "data": {
      "image/png": "[encoded data removed]",
      "text/plain": [
       "<Figure size 432x288 with 1 Axes>"
      ]
     },
     "metadata": {
      "needs_background": "light"
     },
     "output_type": "display_data"
    }
   ],
   "source": []
  },
  {
   "cell_type": "code",
   "execution_count": 25,
   "metadata": {
    "scrolled": true
   },
   "outputs": [
    {
     "name": "stdout",
     "output_type": "stream",
     "text": [
      "Best for m=18 >=> 0.5951282675876135\n"
     ]
    }
   ],
   "source": [
    "\n",
    "m=np.argmax(silhouette)\n",
    "\n",
    "print('Best for m='+str(m+1)+' >=> '+ str(max(silhouette)))\n"
   ]
  },
  {
   "cell_type": "code",
   "execution_count": 31,
   "metadata": {},
   "outputs": [
    {
     "data": {
      "text/plain": [
       "17"
      ]
     },
     "execution_count": 31,
     "metadata": {},
     "output_type": "execute_result"
    }
   ],
   "source": []
  },
  {
   "cell_type": "code",
   "execution_count": null,
   "metadata": {},
   "outputs": [],
   "source": []
  },
  {
   "cell_type": "code",
   "execution_count": 59,
   "metadata": {},
   "outputs": [],
   "source": [
    "z=[]\n",
    "y1=[]\n",
    "for i in dictoutlier[m]:\n",
    "    z.append(labelsss[i])\n",
    "    \n",
    "f00=np.unique(z,return_counts=True)\n",
    "z=str(list(foo[0])+list(foo[1]))"
   ]
  },
  {
   "cell_type": "code",
   "execution_count": 60,
   "metadata": {},
   "outputs": [],
   "source": [
    "\n",
    "for i in dictnotoutlier[m]:\n",
    "    y1.append(labelsss[i])\n",
    "    \n",
    "foo=np.unique(y1,return_counts=True)\n",
    "y1=str(list(foo[0])+list(foo[1]))"
   ]
  },
  {
   "cell_type": "code",
   "execution_count": null,
   "metadata": {},
   "outputs": [],
   "source": []
  },
  {
   "cell_type": "code",
   "execution_count": 67,
   "metadata": {},
   "outputs": [
    {
     "data": {
      "image/png": "[encoded data removed]",
      "text/plain": [
       "<Figure size 432x288 with 1 Axes>"
      ]
     },
     "metadata": {
      "needs_background": "light"
     },
     "output_type": "display_data"
    }
   ],
   "source": [
    "fig=plt.figure()\n",
    "f=plt.plot(silhouette)\n",
    "plt.title(DataSet+' for  k = '+ str(k) )\n",
    "plt.xlabel(\"Iteration -----> \\n MAX for \"+str(m+1)+\"\\n OUTLIER:\"+z+\"\\n NON-OUTLIER:\"+y1)\n",
    "plt.ylabel(\"Average Silhouette Score\")\n",
    "\n",
    "plt.savefig('C:\\\\Users\\\\soumy\\\\Desktop\\\\JU\\\\01.09.2019\\\\literature\\\\Results\\\\'+DataSet+'.png',bbox_inches='tight')"
   ]
  },
  {
   "cell_type": "code",
   "execution_count": 20,
   "metadata": {},
   "outputs": [],
   "source": [
    "#from sklearn.ensemble import IsolationForest\n",
    "\n",
    "#clf = IsolationForest(n_estimators=100, warm_start=True)\n",
    "#y=clf.fit_predict(df12)  # fit 10 trees  "
   ]
  },
  {
   "cell_type": "code",
   "execution_count": null,
   "metadata": {},
   "outputs": [],
   "source": []
  },
  {
   "cell_type": "code",
   "execution_count": 21,
   "metadata": {},
   "outputs": [],
   "source": [
    "#np.unique(y,return_counts=True)"
   ]
  },
  {
   "cell_type": "code",
   "execution_count": null,
   "metadata": {},
   "outputs": [],
   "source": []
  },
  {
   "cell_type": "code",
   "execution_count": null,
   "metadata": {},
   "outputs": [],
   "source": []
  },
  {
   "cell_type": "code",
   "execution_count": null,
   "metadata": {},
   "outputs": [],
   "source": []
  },
  {
   "cell_type": "code",
   "execution_count": 22,
   "metadata": {},
   "outputs": [],
   "source": [
    "#from sklearn_extensions.fuzzy_kmeans import KMedians, FuzzyKMeans, KMeans\n"
   ]
  },
  {
   "cell_type": "code",
   "execution_count": 23,
   "metadata": {},
   "outputs": [],
   "source": [
    "#kmeans = KMeans(k=2)\n",
    "#kmeans.fit(df12)"
   ]
  },
  {
   "cell_type": "code",
   "execution_count": null,
   "metadata": {},
   "outputs": [],
   "source": []
  },
  {
   "cell_type": "code",
   "execution_count": null,
   "metadata": {},
   "outputs": [],
   "source": []
  },
  {
   "cell_type": "code",
   "execution_count": null,
   "metadata": {},
   "outputs": [],
   "source": []
  },
  {
   "cell_type": "code",
   "execution_count": null,
   "metadata": {},
   "outputs": [],
   "source": []
  },
  {
   "cell_type": "code",
   "execution_count": null,
   "metadata": {},
   "outputs": [],
   "source": []
  },
  {
   "cell_type": "code",
   "execution_count": null,
   "metadata": {},
   "outputs": [],
   "source": []
  },
  {
   "cell_type": "code",
   "execution_count": null,
   "metadata": {},
   "outputs": [],
   "source": []
  },
  {
   "cell_type": "code",
   "execution_count": null,
   "metadata": {},
   "outputs": [],
   "source": []
  }
 ],
 "metadata": {
  "kernelspec": {
   "display_name": "Python 3",
   "language": "python",
   "name": "python3"
  },
  "language_info": {
   "codemirror_mode": {
    "name": "ipython",
    "version": 3
   },
   "file_extension": ".py",
   "mimetype": "text/x-python",
   "name": "python",
   "nbconvert_exporter": "python",
   "pygments_lexer": "ipython3",
   "version": "3.7.3"
  }
 },
 "nbformat": 4,
 "nbformat_minor": 2
}
