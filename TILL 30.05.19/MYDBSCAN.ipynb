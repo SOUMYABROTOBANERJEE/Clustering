{
 "cells": [
  {
   "cell_type": "code",
   "execution_count": 152,
   "metadata": {},
   "outputs": [],
   "source": [
    "# -*- coding: utf-8 -*-\n",
    "\"\"\"\n",
    "This is a simple implementation of DBSCAN intended to explain the algorithm.\n",
    "\n",
    "@author: Chris McCormick\n",
    "\"\"\"\n",
    "\n",
    "import numpy\n",
    "\n",
    "def MyDBSCAN(D, eps, MinPts):\n",
    "    \"\"\"\n",
    "    Cluster the dataset `D` using the DBSCAN algorithm.\n",
    "    \n",
    "    MyDBSCAN takes a dataset `D` (a list of vectors), a threshold distance\n",
    "    `eps`, and a required number of points `MinPts`.\n",
    "    \n",
    "    It will return a list of cluster labels. The label -1 means noise, and then\n",
    "    the clusters are numbered starting from 1.\n",
    "    \"\"\"\n",
    " \n",
    "    # This list will hold the final cluster assignment for each point in D.\n",
    "    # There are two reserved values:\n",
    "    #    -1 - Indicates a noise point\n",
    "    #     0 - Means the point hasn't been considered yet.\n",
    "    # Initially all labels are 0.    \n",
    "    labels = [0]*len(D)\n",
    "\n",
    "    # C is the ID of the current cluster.    \n",
    "    C = 0\n",
    "    \n",
    "    # This outer loop is just responsible for picking new seed points--a point\n",
    "    # from which to grow a new cluster.\n",
    "    # Once a valid seed point is found, a new cluster is created, and the \n",
    "    # cluster growth is all handled by the 'expandCluster' routine.\n",
    "    \n",
    "    # For each point P in the Dataset D...\n",
    "    # ('P' is the index of the datapoint, rather than the datapoint itself.)\n",
    "    for P in range(0, len(D)):\n",
    "    \n",
    "        # Only points that have not already been claimed can be picked as new \n",
    "        # seed points.    \n",
    "        # If the point's label is not 0, continue to the next point.\n",
    "        if not (labels[P] == 0):\n",
    "           continue\n",
    "        \n",
    "        # Find all of P's neighboring points.\n",
    "        NeighborPts = regionQuery(D, P, eps)\n",
    "        \n",
    "        # If the number is below MinPts, this point is noise. \n",
    "        # This is the only condition under which a point is labeled \n",
    "        # NOISE--when it's not a valid seed point. A NOISE point may later \n",
    "        # be picked up by another cluster as a boundary point (this is the only\n",
    "        # condition under which a cluster label can change--from NOISE to \n",
    "        # something else).\n",
    "        if len(NeighborPts) < MinPts:\n",
    "            labels[P] = -1\n",
    "        # Otherwise, if there are at least MinPts nearby, use this point as the \n",
    "        # seed for a new cluster.    \n",
    "        else: \n",
    "           C += 1\n",
    "           growCluster(D, labels, P, NeighborPts, C, eps, MinPts)\n",
    "    \n",
    "    # All data has been clustered!\n",
    "    return labels\n",
    "\n",
    "\n",
    "def growCluster(D, labels, P, NeighborPts, C, eps, MinPts):\n",
    "    \"\"\"\n",
    "    Grow a new cluster with label `C` from the seed point `P`.\n",
    "    \n",
    "    This function searches through the dataset to find all points that belong\n",
    "    to this new cluster. When this function returns, cluster `C` is complete.\n",
    "    \n",
    "    Parameters:\n",
    "      `D`      - The dataset (a list of vectors)\n",
    "      `labels` - List storing the cluster labels for all dataset points\n",
    "      `P`      - Index of the seed point for this new cluster\n",
    "      `NeighborPts` - All of the neighbors of `P`\n",
    "      `C`      - The label for this new cluster.  \n",
    "      `eps`    - Threshold distance\n",
    "      `MinPts` - Minimum required number of neighbors\n",
    "    \"\"\"\n",
    "\n",
    "    # Assign the cluster label to the seed point.\n",
    "    labels[P] = C\n",
    "    \n",
    "    # Look at each neighbor of P (neighbors are referred to as Pn). \n",
    "    # NeighborPts will be used as a FIFO queue of points to search--that is, it\n",
    "    # will grow as we discover new branch points for the cluster. The FIFO\n",
    "    # behavior is accomplished by using a while-loop rather than a for-loop.\n",
    "    # In NeighborPts, the points are represented by their index in the original\n",
    "    # dataset.\n",
    "    i = 0\n",
    "    while i < len(NeighborPts):    \n",
    "        \n",
    "        # Get the next point from the queue.        \n",
    "        Pn = NeighborPts[i]\n",
    "       \n",
    "        # If Pn was labelled NOISE during the seed search, then we\n",
    "        # know it's not a branch point (it doesn't have enough neighbors), so\n",
    "        # make it a leaf point of cluster C and move on.\n",
    "        if labels[Pn] == -1:\n",
    "           labels[Pn] = C\n",
    "        \n",
    "        # Otherwise, if Pn isn't already claimed, claim it as part of C.\n",
    "        elif labels[Pn] == 0:\n",
    "            # Add Pn to cluster C (Assign cluster label C).\n",
    "            labels[Pn] = C\n",
    "            \n",
    "            # Find all the neighbors of Pn\n",
    "            PnNeighborPts = regionQuery(D, Pn, eps)\n",
    "            \n",
    "            # If Pn has at least MinPts neighbors, it's a branch point!\n",
    "            # Add all of its neighbors to the FIFO queue to be searched. \n",
    "            if len(PnNeighborPts) >= MinPts:\n",
    "                NeighborPts = NeighborPts + PnNeighborPts\n",
    "            # If Pn *doesn't* have enough neighbors, then it's a leaf point.\n",
    "            # Don't queue up it's neighbors as expansion points.\n",
    "            #else:\n",
    "                # Do nothing                \n",
    "                #NeighborPts = NeighborPts               \n",
    "        \n",
    "        # Advance to the next point in the FIFO queue.\n",
    "        i += 1        \n",
    "    \n",
    "    # We've finished growing cluster C!\n",
    "\n",
    "\n",
    "def regionQuery(D, P, eps):\n",
    "    \"\"\"\n",
    "    Find all points in dataset `D` within distance `eps` of point `P`.\n",
    "    \n",
    "    This function calculates the distance between a point P and every other \n",
    "    point in the dataset, and then returns only those points which are within a\n",
    "    threshold distance `eps`.\n",
    "    \"\"\"\n",
    "    neighbors = []\n",
    "    \n",
    "    # For each point in the dataset...\n",
    "    for Pn in range(0, len(D)):\n",
    "        \n",
    "        # If the distance is below the threshold, add it to the neighbors list.\n",
    "        if numpy.linalg.norm(D[P] - D[Pn]) < eps:\n",
    "           neighbors.append(Pn)\n",
    "            \n",
    "    return neighbors"
   ]
  },
  {
   "cell_type": "code",
   "execution_count": 175,
   "metadata": {},
   "outputs": [
    {
     "name": "stdout",
     "output_type": "stream",
     "text": [
      "dict_keys(['data', 'target', 'feature_names', 'DESCR'])\n"
     ]
    }
   ],
   "source": [
    "import pandas as pd\n",
    "import numpy as np\n",
    "import matplotlib.pyplot as plt\n",
    "%matplotlib inline\n",
    "from sklearn.datasets import load_boston\n",
    "from scipy import stats\n",
    "from sklearn.preprocessing import StandardScaler\n",
    "\n",
    "boston=load_boston()\n",
    "x=boston.data\n",
    "y=boston.target\n",
    "print(boston.keys())\n",
    "df=pd.DataFrame(boston.data)\n",
    "columns=boston.feature_names\n",
    "df.columns=columns\n",
    "scaler = StandardScaler()\n",
    "df_scaled = scaler.fit_transform(df)"
   ]
  },
  {
   "cell_type": "code",
   "execution_count": 197,
   "metadata": {},
   "outputs": [
    {
     "name": "stdout",
     "output_type": "stream",
     "text": [
      "[[-0.41771335  0.28482986 -1.2879095  ... -1.45900038  0.44105193\n",
      "  -1.0755623 ]\n",
      " [-0.41526932 -0.48772236 -0.59338101 ... -0.30309415  0.44105193\n",
      "  -0.49243937]\n",
      " [-0.41527165 -0.48772236 -0.59338101 ... -0.30309415  0.39642699\n",
      "  -1.2087274 ]\n",
      " ...\n",
      " [-0.41137448 -0.48772236  0.11573841 ...  1.17646583  0.44105193\n",
      "  -0.98304761]\n",
      " [-0.40568883 -0.48772236  0.11573841 ...  1.17646583  0.4032249\n",
      "  -0.86530163]\n",
      " [-0.41292893 -0.48772236  0.11573841 ...  1.17646583  0.44105193\n",
      "  -0.66905833]]\n"
     ]
    }
   ],
   "source": [
    "print(df_scaled)"
   ]
  },
  {
   "cell_type": "code",
   "execution_count": 177,
   "metadata": {},
   "outputs": [],
   "source": [
    "from sklearn.cluster import DBSCAN\n",
    "from sklearn.preprocessing import StandardScaler"
   ]
  },
  {
   "cell_type": "code",
   "execution_count": 156,
   "metadata": {},
   "outputs": [],
   "source": [
    "#df = df.as_matrix().astype(\"float32\", copy = False)"
   ]
  },
  {
   "cell_type": "code",
   "execution_count": 228,
   "metadata": {},
   "outputs": [],
   "source": [
    "dbsc = DBSCAN(eps = 0.6, min_samples =5).fit(df_scaled)\n",
    "#model= MyDBSCAN(df,0.3,5)"
   ]
  },
  {
   "cell_type": "code",
   "execution_count": 229,
   "metadata": {},
   "outputs": [
    {
     "name": "stdout",
     "output_type": "stream",
     "text": [
      "DBSCAN(algorithm='auto', eps=0.6, leaf_size=30, metric='euclidean',\n",
      "    metric_params=None, min_samples=5, n_jobs=1, p=None)\n"
     ]
    }
   ],
   "source": [
    "print(dbsc)"
   ]
  },
  {
   "cell_type": "code",
   "execution_count": 225,
   "metadata": {},
   "outputs": [
    {
     "name": "stdout",
     "output_type": "stream",
     "text": [
      "(506,)\n"
     ]
    }
   ],
   "source": [
    "print(dbsc.labels_.shape)"
   ]
  },
  {
   "cell_type": "code",
   "execution_count": 226,
   "metadata": {},
   "outputs": [],
   "source": [
    "colors=dbsc.labels_"
   ]
  },
  {
   "cell_type": "code",
   "execution_count": 230,
   "metadata": {
    "scrolled": true
   },
   "outputs": [
    {
     "data": {
      "text/plain": [
       "<matplotlib.collections.PathCollection at 0x1fe4c650198>"
      ]
     },
     "execution_count": 230,
     "metadata": {},
     "output_type": "execute_result"
    },
    {
     "data": {
      "image/png": "[encoded data removed]",
      "text/plain": [
       "<Figure size 1152x576 with 1 Axes>"
      ]
     },
     "metadata": {
      "needs_background": "light"
     },
     "output_type": "display_data"
    }
   ],
   "source": [
    "fig=plt.figure(figsize=(16,8))\n",
    "plt.scatter(df['INDUS'],df['TAX'],c=colors)"
   ]
  },
  {
   "cell_type": "code",
   "execution_count": 165,
   "metadata": {},
   "outputs": [
    {
     "name": "stdout",
     "output_type": "stream",
     "text": [
      "         CRIM    ZN  INDUS  CHAS     NOX     RM    AGE      DIS   RAD    TAX  \\\n",
      "18    0.80271   0.0   8.14   0.0  0.5380  5.456   36.6   3.7965   4.0  307.0   \n",
      "25    0.84054   0.0   8.14   0.0  0.5380  5.599   85.7   4.4546   4.0  307.0   \n",
      "27    0.95577   0.0   8.14   0.0  0.5380  6.047   88.8   4.4534   4.0  307.0   \n",
      "32    1.38799   0.0   8.14   0.0  0.5380  5.950   82.0   3.9900   4.0  307.0   \n",
      "34    1.61282   0.0   8.14   0.0  0.5380  6.096   96.9   3.7598   4.0  307.0   \n",
      "41    0.12744   0.0   6.91   0.0  0.4480  6.770    2.9   5.7209   3.0  233.0   \n",
      "42    0.14150   0.0   6.91   0.0  0.4480  6.169    6.6   5.7209   3.0  233.0   \n",
      "43    0.15936   0.0   6.91   0.0  0.4480  6.211    6.5   5.7209   3.0  233.0   \n",
      "47    0.22927   0.0   6.91   0.0  0.4480  6.030   85.5   5.6894   3.0  233.0   \n",
      "48    0.25387   0.0   6.91   0.0  0.4480  5.399   95.3   5.8700   3.0  233.0   \n",
      "52    0.05360  21.0   5.64   0.0  0.4390  6.511   21.1   6.8147   4.0  243.0   \n",
      "53    0.04981  21.0   5.64   0.0  0.4390  5.998   21.4   6.8147   4.0  243.0   \n",
      "54    0.01360  75.0   4.00   0.0  0.4100  5.888   47.6   7.3197   3.0  469.0   \n",
      "55    0.01311  90.0   1.22   0.0  0.4030  7.249   21.9   8.6966   5.0  226.0   \n",
      "61    0.17171  25.0   5.13   0.0  0.4530  5.966   93.4   6.8185   8.0  284.0   \n",
      "74    0.07896   0.0  12.83   0.0  0.4370  6.273    6.0   4.2515   5.0  398.0   \n",
      "102   0.22876   0.0   8.56   0.0  0.5200  6.405   85.4   2.7147   5.0  384.0   \n",
      "115   0.17134   0.0  10.01   0.0  0.5470  5.928   88.2   2.4631   6.0  432.0   \n",
      "118   0.13058   0.0  10.01   0.0  0.5470  5.872   73.1   2.4775   6.0  432.0   \n",
      "134   0.97617   0.0  21.89   0.0  0.6240  5.757   98.4   2.3460   4.0  437.0   \n",
      "145   2.37934   0.0  19.58   0.0  0.8710  6.130  100.0   1.4191   5.0  403.0   \n",
      "146   2.15505   0.0  19.58   0.0  0.8710  5.628  100.0   1.5166   5.0  403.0   \n",
      "153   2.14918   0.0  19.58   0.0  0.8710  5.709   98.5   1.6232   5.0  403.0   \n",
      "155   3.53501   0.0  19.58   1.0  0.8710  6.152   82.6   1.7455   5.0  403.0   \n",
      "156   2.44668   0.0  19.58   0.0  0.8710  5.272   94.0   1.7364   5.0  403.0   \n",
      "165   2.92400   0.0  19.58   0.0  0.6050  6.101   93.0   2.2834   5.0  403.0   \n",
      "167   1.80028   0.0  19.58   0.0  0.6050  5.877   79.2   2.4259   5.0  403.0   \n",
      "168   2.30040   0.0  19.58   0.0  0.6050  6.319   96.1   2.1000   5.0  403.0   \n",
      "170   1.20742   0.0  19.58   0.0  0.6050  5.875   94.6   2.4259   5.0  403.0   \n",
      "194   0.01439  60.0   2.93   0.0  0.4010  6.604   18.8   6.2196   1.0  265.0   \n",
      "..        ...   ...    ...   ...     ...    ...    ...      ...   ...    ...   \n",
      "330   0.04544   0.0   3.24   0.0  0.4600  6.144   32.2   5.8736   4.0  430.0   \n",
      "332   0.03466  35.0   6.06   0.0  0.4379  6.031   23.3   6.6407   1.0  304.0   \n",
      "343   0.02543  55.0   3.78   0.0  0.4840  6.696   56.4   5.7321   5.0  370.0   \n",
      "344   0.03049  55.0   3.78   0.0  0.4840  6.874   28.1   6.4654   5.0  370.0   \n",
      "346   0.06162   0.0   4.39   0.0  0.4420  5.898   52.3   8.0136   3.0  352.0   \n",
      "348   0.01501  80.0   2.01   0.0  0.4350  6.635   29.7   8.3440   4.0  280.0   \n",
      "351   0.07950  60.0   1.69   0.0  0.4110  6.579   35.9  10.7103   4.0  411.0   \n",
      "352   0.07244  60.0   1.69   0.0  0.4110  5.884   18.5  10.7103   4.0  411.0   \n",
      "353   0.01709  90.0   2.02   0.0  0.4100  6.728   36.1  12.1265   5.0  187.0   \n",
      "367  13.52220   0.0  18.10   0.0  0.6310  3.863  100.0   1.5106  24.0  666.0   \n",
      "380  88.97620   0.0  18.10   0.0  0.6710  6.968   91.9   1.4165  24.0  666.0   \n",
      "404  41.52920   0.0  18.10   0.0  0.6930  5.531   85.4   1.6074  24.0  666.0   \n",
      "405  67.92080   0.0  18.10   0.0  0.6930  5.683  100.0   1.4254  24.0  666.0   \n",
      "409  14.43830   0.0  18.10   0.0  0.5970  6.852  100.0   1.4655  24.0  666.0   \n",
      "410  51.13580   0.0  18.10   0.0  0.5970  5.757  100.0   1.4130  24.0  666.0   \n",
      "413  28.65580   0.0  18.10   0.0  0.5970  5.155  100.0   1.5894  24.0  666.0   \n",
      "414  45.74610   0.0  18.10   0.0  0.6930  4.519  100.0   1.6582  24.0  666.0   \n",
      "417  25.94060   0.0  18.10   0.0  0.6790  5.304   89.1   1.6475  24.0  666.0   \n",
      "418  73.53410   0.0  18.10   0.0  0.6790  5.957  100.0   1.8026  24.0  666.0   \n",
      "419  11.81230   0.0  18.10   0.0  0.7180  6.824   76.5   1.7940  24.0  666.0   \n",
      "426  12.24720   0.0  18.10   0.0  0.5840  5.837   59.7   1.9976  24.0  666.0   \n",
      "427  37.66190   0.0  18.10   0.0  0.6790  6.202   78.7   1.8629  24.0  666.0   \n",
      "444  12.80230   0.0  18.10   0.0  0.7400  5.854   96.6   1.8956  24.0  666.0   \n",
      "460   4.81213   0.0  18.10   0.0  0.7130  6.701   90.0   2.5975  24.0  666.0   \n",
      "465   3.16360   0.0  18.10   0.0  0.6550  5.759   48.2   3.0665  24.0  666.0   \n",
      "488   0.15086   0.0  27.74   0.0  0.6090  5.454   92.7   1.8209   4.0  711.0   \n",
      "489   0.18337   0.0  27.74   0.0  0.6090  5.414   98.3   1.7554   4.0  711.0   \n",
      "490   0.20746   0.0  27.74   0.0  0.6090  5.093   98.0   1.8226   4.0  711.0   \n",
      "491   0.10574   0.0  27.74   0.0  0.6090  5.983   98.8   1.8681   4.0  711.0   \n",
      "492   0.11132   0.0  27.74   0.0  0.6090  5.983   83.5   2.1099   4.0  711.0   \n",
      "\n",
      "     PTRATIO       B  LSTAT  \n",
      "18      21.0  288.99  11.69  \n",
      "25      21.0  303.42  16.51  \n",
      "27      21.0  306.38  17.28  \n",
      "32      21.0  232.60  27.71  \n",
      "34      21.0  248.31  20.34  \n",
      "41      17.9  385.41   4.84  \n",
      "42      17.9  383.37   5.81  \n",
      "43      17.9  394.46   7.44  \n",
      "47      17.9  392.74  18.80  \n",
      "48      17.9  396.90  30.81  \n",
      "52      16.8  396.90   5.28  \n",
      "53      16.8  396.90   8.43  \n",
      "54      21.1  396.90  14.80  \n",
      "55      17.9  395.93   4.81  \n",
      "61      19.7  378.08  14.44  \n",
      "74      18.7  394.92   6.78  \n",
      "102     20.9   70.80  10.63  \n",
      "115     17.8  344.91  15.76  \n",
      "118     17.8  338.63  15.37  \n",
      "134     21.2  262.76  17.31  \n",
      "145     14.7  172.91  27.80  \n",
      "146     14.7  169.27  16.65  \n",
      "153     14.7  261.95  15.79  \n",
      "155     14.7   88.01  15.02  \n",
      "156     14.7   88.63  16.14  \n",
      "165     14.7  240.16   9.81  \n",
      "167     14.7  227.61  12.14  \n",
      "168     14.7  297.09  11.10  \n",
      "170     14.7  292.29  14.43  \n",
      "194     15.6  376.70   4.38  \n",
      "..       ...     ...    ...  \n",
      "330     16.9  368.57   9.09  \n",
      "332     16.9  362.25   7.83  \n",
      "343     17.6  396.90   7.18  \n",
      "344     17.6  387.97   4.61  \n",
      "346     18.8  364.61  12.67  \n",
      "348     17.0  390.94   5.99  \n",
      "351     18.3  370.78   5.49  \n",
      "352     18.3  392.33   7.79  \n",
      "353     17.0  384.46   4.50  \n",
      "367     20.2  131.42  13.33  \n",
      "380     20.2  396.90  17.21  \n",
      "404     20.2  329.46  27.38  \n",
      "405     20.2  384.97  22.98  \n",
      "409     20.2  179.36  19.78  \n",
      "410     20.2    2.60  10.11  \n",
      "413     20.2  210.97  20.08  \n",
      "414     20.2   88.27  36.98  \n",
      "417     20.2  127.36  26.64  \n",
      "418     20.2   16.45  20.62  \n",
      "419     20.2   48.45  22.74  \n",
      "426     20.2   24.65  15.69  \n",
      "427     20.2   18.82  14.52  \n",
      "444     20.2  240.52  23.79  \n",
      "460     20.2  255.23  16.42  \n",
      "465     20.2  334.40  14.13  \n",
      "488     20.1  395.09  18.06  \n",
      "489     20.1  344.05  23.97  \n",
      "490     20.1  318.43  29.68  \n",
      "491     20.1  390.11  18.07  \n",
      "492     20.1  396.90  13.35  \n",
      "\n",
      "[80 rows x 13 columns]\n"
     ]
    }
   ],
   "source": [
    "print(df[dbsc.labels_==-1])"
   ]
  },
  {
   "cell_type": "code",
   "execution_count": 174,
   "metadata": {},
   "outputs": [
    {
     "name": "stdout",
     "output_type": "stream",
     "text": [
      "Counter({-1: 130, 1: 106, 16: 76, 6: 22, 7: 22, 0: 20, 18: 15, 10: 14, 4: 13, 14: 11, 17: 10, 5: 9, 3: 9, 13: 8, 2: 7, 9: 7, 12: 6, 19: 6, 8: 5, 11: 5, 15: 5})\n"
     ]
    }
   ],
   "source": [
    "from collections import Counter\n",
    "print(Counter(dbsc.labels_))"
   ]
  },
  {
   "cell_type": "code",
   "execution_count": null,
   "metadata": {},
   "outputs": [],
   "source": []
  },
  {
   "cell_type": "code",
   "execution_count": null,
   "metadata": {},
   "outputs": [],
   "source": []
  }
 ],
 "metadata": {
  "kernelspec": {
   "display_name": "Python 3",
   "language": "python",
   "name": "python3"
  },
  "language_info": {
   "codemirror_mode": {
    "name": "ipython",
    "version": 3
   },
   "file_extension": ".py",
   "mimetype": "text/x-python",
   "name": "python",
   "nbconvert_exporter": "python",
   "pygments_lexer": "ipython3",
   "version": "3.7.0"
  }
 },
 "nbformat": 4,
 "nbformat_minor": 2
}
